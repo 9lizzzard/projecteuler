{
  "nbformat": 4,
  "nbformat_minor": 0,
  "metadata": {
    "colab": {
      "provenance": [],
      "authorship_tag": "ABX9TyM0WldJNJ1zg0HibATs1b3s",
      "include_colab_link": true
    },
    "kernelspec": {
      "name": "python3",
      "display_name": "Python 3"
    },
    "language_info": {
      "name": "python"
    }
  },
  "cells": [
    {
      "cell_type": "markdown",
      "metadata": {
        "id": "view-in-github",
        "colab_type": "text"
      },
      "source": [
        "<a href=\"https://colab.research.google.com/github/9lizzzard/projecteuler/blob/main/Prob003.ipynb\" target=\"_parent\"><img src=\"https://colab.research.google.com/assets/colab-badge.svg\" alt=\"Open In Colab\"/></a>"
      ]
    },
    {
      "cell_type": "markdown",
      "source": [
        "# Problem 3\n",
        "\n",
        "The prime factors of 13195 are 5, 7, 13 and 29.\n",
        "\n",
        "What is the largest prime factor of the number 600851475143 ?"
      ],
      "metadata": {
        "id": "2q0qbwVCcllk"
      }
    },
    {
      "cell_type": "code",
      "execution_count": 19,
      "metadata": {
        "id": "oyWIFKSmcgyj",
        "colab": {
          "base_uri": "https://localhost:8080/"
        },
        "outputId": "a5bca826-54e1-4d6d-badd-f173fd8112de"
      },
      "outputs": [
        {
          "output_type": "stream",
          "name": "stdout",
          "text": [
            "6857\n"
          ]
        }
      ],
      "source": [
        "prime_factor_list = []\n",
        "original_num = 600851475143\n",
        "sqrt_num = round(original_num ** (1/2))\n",
        "for number in range(2, sqrt_num):\n",
        "  if original_num % number == 0:\n",
        "    sqrt_divisor = round(number ** (1/2) + 1)\n",
        "    for num in range(2, sqrt_divisor):\n",
        "      if number % num == 0:\n",
        "        is_prime = False\n",
        "        break\n",
        "      else:\n",
        "        is_prime = True\n",
        "    if is_prime:\n",
        "        prime_factor_list.append(number)\n",
        "\n",
        "print(max(prime_factor_list))"
      ]
    },
    {
      "cell_type": "code",
      "source": [],
      "metadata": {
        "id": "H7eydwUaXEPJ"
      },
      "execution_count": null,
      "outputs": []
    }
  ]
}