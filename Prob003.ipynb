{
  "nbformat": 4,
  "nbformat_minor": 0,
  "metadata": {
    "colab": {
      "provenance": [],
      "authorship_tag": "ABX9TyOIjCG135ZQqjj4Ui9PUaZl",
      "include_colab_link": true
    },
    "kernelspec": {
      "name": "python3",
      "display_name": "Python 3"
    },
    "language_info": {
      "name": "python"
    }
  },
  "cells": [
    {
      "cell_type": "markdown",
      "metadata": {
        "id": "view-in-github",
        "colab_type": "text"
      },
      "source": [
        "<a href=\"https://colab.research.google.com/github/9lizzzard/projecteuler/blob/main/Prob003.ipynb\" target=\"_parent\"><img src=\"https://colab.research.google.com/assets/colab-badge.svg\" alt=\"Open In Colab\"/></a>"
      ]
    },
    {
      "cell_type": "markdown",
      "source": [
        "# Problem 3\n",
        "\n",
        "The prime factors of 13195 are 5, 7, 13 and 29.\n",
        "\n",
        "What is the largest prime factor of the number 600851475143 ?"
      ],
      "metadata": {
        "id": "2q0qbwVCcllk"
      }
    },
    {
      "cell_type": "code",
      "execution_count": null,
      "metadata": {
        "id": "oyWIFKSmcgyj"
      },
      "outputs": [],
      "source": [
        "prime_factor_list = []\n",
        "for number in range(2, 600851475143):\n",
        "    if 13195 % number == 0:\n",
        "        for num in range(2, number):\n",
        "            if number % num == 0:\n",
        "                is_prime = False\n",
        "                break\n",
        "            else:\n",
        "                is_prime = True\n",
        "        if is_prime:\n",
        "            prime_factor_list.append(number)\n",
        "\n",
        "print(prime_factor_list)"
      ]
    }
  ]
}