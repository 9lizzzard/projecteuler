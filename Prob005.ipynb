{
  "nbformat": 4,
  "nbformat_minor": 0,
  "metadata": {
    "colab": {
      "provenance": [],
      "authorship_tag": "ABX9TyMgXM6GkDLulHzu7S8zgcao",
      "include_colab_link": true
    },
    "kernelspec": {
      "name": "python3",
      "display_name": "Python 3"
    },
    "language_info": {
      "name": "python"
    }
  },
  "cells": [
    {
      "cell_type": "markdown",
      "metadata": {
        "id": "view-in-github",
        "colab_type": "text"
      },
      "source": [
        "<a href=\"https://colab.research.google.com/github/9lizzzard/projecteuler/blob/main/Prob005.ipynb\" target=\"_parent\"><img src=\"https://colab.research.google.com/assets/colab-badge.svg\" alt=\"Open In Colab\"/></a>"
      ]
    },
    {
      "cell_type": "code",
      "execution_count": 1,
      "metadata": {
        "colab": {
          "base_uri": "https://localhost:8080/"
        },
        "id": "5G6tpoxA_WNr",
        "outputId": "bbebfdca-77f6-4d92-a164-dd6e1f22b43c"
      },
      "outputs": [
        {
          "output_type": "stream",
          "name": "stdout",
          "text": [
            "232792560\n"
          ]
        }
      ],
      "source": [
        "largest_number = 2520\n",
        "\n",
        "for num in range(11, 21):\n",
        "    largest_number *= num\n",
        "\n",
        "smallest_num = 10\n",
        "\n",
        "while smallest_num < largest_number:\n",
        "    if smallest_num % 2 == 0 and smallest_num % 3 == 0 and smallest_num % 4 == 0 and smallest_num % 5 == 0 and smallest_num % 6 == 0 and smallest_num % 7 == 0 and smallest_num % 8 == 0 and smallest_num % 9 == 0 and smallest_num % 10 == 0 and smallest_num % 11 == 0 and smallest_num % 12 == 0 and smallest_num % 13 == 0 and smallest_num % 14 == 0 and smallest_num % 15 == 0 and smallest_num % 16 == 0 and smallest_num % 17 == 0 and smallest_num % 18 == 0 and smallest_num % 19 == 0 and smallest_num % 20 == 0:\n",
        "        print(smallest_num)\n",
        "        break\n",
        "    else:\n",
        "        smallest_num += 1"
      ]
    }
  ]
}