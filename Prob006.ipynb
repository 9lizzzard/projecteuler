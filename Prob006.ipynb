{
  "nbformat": 4,
  "nbformat_minor": 0,
  "metadata": {
    "colab": {
      "provenance": [],
      "authorship_tag": "ABX9TyPB5DCbf4jygQjATUC3SgS/",
      "include_colab_link": true
    },
    "kernelspec": {
      "name": "python3",
      "display_name": "Python 3"
    },
    "language_info": {
      "name": "python"
    }
  },
  "cells": [
    {
      "cell_type": "markdown",
      "metadata": {
        "id": "view-in-github",
        "colab_type": "text"
      },
      "source": [
        "<a href=\"https://colab.research.google.com/github/9lizzzard/projecteuler/blob/main/Prob006.ipynb\" target=\"_parent\"><img src=\"https://colab.research.google.com/assets/colab-badge.svg\" alt=\"Open In Colab\"/></a>"
      ]
    },
    {
      "cell_type": "markdown",
      "source": [
        "# Problem 6\n",
        "\n",
        "The sum of the squares of the first ten natural numbers is,\n",
        "\n",
        "1^2 + 2^2 + ... + 10^2 = 385\n",
        "\n",
        "The square of the sum of the first ten natural numbers is,\n",
        "\n",
        "(1 + 2 + ... + 10)^2 = 55^2 = 3025\n",
        "\n",
        "Hence the difference between the sum of the squares of the first ten natural numbers and the square of the sum is 3025 - 385 = 2640.\n",
        "\n",
        "Find the difference between the sum of the squares of the first one hundred natural numbers and the square of the sum."
      ],
      "metadata": {
        "id": "RQA2m0taD89x"
      }
    },
    {
      "cell_type": "code",
      "execution_count": 1,
      "metadata": {
        "colab": {
          "base_uri": "https://localhost:8080/"
        },
        "id": "ocT-nJSfD4mI",
        "outputId": "a74a09f0-1ee9-4c07-c8d9-4a037fe862ba"
      },
      "outputs": [
        {
          "output_type": "stream",
          "name": "stdout",
          "text": [
            "25164150\n"
          ]
        }
      ],
      "source": [
        "sum_of_square = 0\n",
        "for num in range(1, 101):\n",
        "    sum_of_square += num ** 2\n",
        "\n",
        "square_of_sum = (100 * 101 // 2) ** 2\n",
        "\n",
        "difference = square_of_sum - sum_of_square\n",
        "print(difference)"
      ]
    }
  ]
}