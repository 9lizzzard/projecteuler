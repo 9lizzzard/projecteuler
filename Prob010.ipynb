{
  "nbformat": 4,
  "nbformat_minor": 0,
  "metadata": {
    "colab": {
      "provenance": [],
      "authorship_tag": "ABX9TyPrqJ/lX2S1uCx3u+kn+t1E",
      "include_colab_link": true
    },
    "kernelspec": {
      "name": "python3",
      "display_name": "Python 3"
    },
    "language_info": {
      "name": "python"
    }
  },
  "cells": [
    {
      "cell_type": "markdown",
      "metadata": {
        "id": "view-in-github",
        "colab_type": "text"
      },
      "source": [
        "<a href=\"https://colab.research.google.com/github/9lizzzard/projecteuler/blob/main/Prob010.ipynb\" target=\"_parent\"><img src=\"https://colab.research.google.com/assets/colab-badge.svg\" alt=\"Open In Colab\"/></a>"
      ]
    },
    {
      "cell_type": "markdown",
      "source": [
        "# Problem 10\n",
        "\n",
        "The sum of the primes below 10 is 2 + 3 + 5 + 7 = 17.\n",
        "\n",
        "Find the sum of all the primes below two million."
      ],
      "metadata": {
        "id": "SEnY2ChYzy1l"
      }
    },
    {
      "cell_type": "code",
      "execution_count": 1,
      "metadata": {
        "colab": {
          "base_uri": "https://localhost:8080/"
        },
        "id": "xxmWxGmUzltf",
        "outputId": "1007d5f7-5dc7-4586-9cd7-6b1c86888ae4"
      },
      "outputs": [
        {
          "output_type": "stream",
          "name": "stdout",
          "text": [
            "142913828922\n"
          ]
        }
      ],
      "source": [
        "def is_prime(num):\n",
        "    i = 2\n",
        "    while i * i <= num:\n",
        "        if num % i == 0:\n",
        "            return False\n",
        "        i += 1\n",
        "    return True\n",
        "\n",
        "\n",
        "prime_num_list = []\n",
        "\n",
        "for num in range(2, 2000000):\n",
        "    if is_prime(num):\n",
        "        prime_num_list.append(num)\n",
        "\n",
        "print(sum(prime_num_list))"
      ]
    }
  ]
}