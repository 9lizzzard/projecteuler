{
  "nbformat": 4,
  "nbformat_minor": 0,
  "metadata": {
    "colab": {
      "provenance": [],
      "authorship_tag": "ABX9TyP02/nWgKLncVsZgEyNRnNN",
      "include_colab_link": true
    },
    "kernelspec": {
      "name": "python3",
      "display_name": "Python 3"
    },
    "language_info": {
      "name": "python"
    }
  },
  "cells": [
    {
      "cell_type": "markdown",
      "metadata": {
        "id": "view-in-github",
        "colab_type": "text"
      },
      "source": [
        "<a href=\"https://colab.research.google.com/github/9lizzzard/projecteuler/blob/main/Prob9.ipynb\" target=\"_parent\"><img src=\"https://colab.research.google.com/assets/colab-badge.svg\" alt=\"Open In Colab\"/></a>"
      ]
    },
    {
      "cell_type": "markdown",
      "source": [
        "# Problem 9\n",
        "\n",
        "A Pythagorean triplet is a set of three natural numbers, a < b < c, for which,\n",
        "\n",
        "a^2 + b^2 = c^2\n",
        "\n",
        "For example, 3^2 + 4^2 = 9 + 16 = 25 = 5^2.\n",
        "\n",
        "There exists exactly one Pythagorean triplet for which a + b + c = 1000.\n",
        "\n",
        "Find the product abc."
      ],
      "metadata": {
        "id": "X6IlZKaJk1iP"
      }
    },
    {
      "cell_type": "code",
      "execution_count": 1,
      "metadata": {
        "colab": {
          "base_uri": "https://localhost:8080/"
        },
        "id": "Ko9YwnAQkxxg",
        "outputId": "6bac530d-68d4-4737-e5f7-98ff2032f260"
      },
      "outputs": [
        {
          "output_type": "stream",
          "name": "stdout",
          "text": [
            "31875000\n"
          ]
        }
      ],
      "source": [
        "import math\n",
        "\n",
        "\n",
        "def is_pythagorean_triplet(a, b):\n",
        "    c_square = a ** 2 + b ** 2\n",
        "    c = int(math.sqrt(c_square))\n",
        "    return c ** 2 == c_square\n",
        "\n",
        "\n",
        "for a in range(1, 1000):\n",
        "    for b in range(a, 1000):\n",
        "        if is_pythagorean_triplet(a, b):\n",
        "            c = int(math.sqrt(a ** 2 + b ** 2))\n",
        "            if a + b + c == 1000:\n",
        "                print(a * b * c)"
      ]
    }
  ]
}