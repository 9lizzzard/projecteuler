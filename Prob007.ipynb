{
  "nbformat": 4,
  "nbformat_minor": 0,
  "metadata": {
    "colab": {
      "provenance": [],
      "authorship_tag": "ABX9TyPESNk4ITO6mQ3XWSzsEYIj",
      "include_colab_link": true
    },
    "kernelspec": {
      "name": "python3",
      "display_name": "Python 3"
    },
    "language_info": {
      "name": "python"
    }
  },
  "cells": [
    {
      "cell_type": "markdown",
      "metadata": {
        "id": "view-in-github",
        "colab_type": "text"
      },
      "source": [
        "<a href=\"https://colab.research.google.com/github/9lizzzard/projecteuler/blob/main/Prob007.ipynb\" target=\"_parent\"><img src=\"https://colab.research.google.com/assets/colab-badge.svg\" alt=\"Open In Colab\"/></a>"
      ]
    },
    {
      "cell_type": "markdown",
      "source": [
        "# Problem 7\n",
        "\n",
        "By listing the first six prime numbers: 2, 3, 5, 7, 11, and 13, we can see that the 6th prime is 13.\n",
        "\n",
        "What is the 10,001st prime number?"
      ],
      "metadata": {
        "id": "wENPP9teqDf5"
      }
    },
    {
      "cell_type": "code",
      "execution_count": 2,
      "metadata": {
        "colab": {
          "base_uri": "https://localhost:8080/"
        },
        "id": "Aim1ioRjp_Yg",
        "outputId": "d86ca72c-79f0-4a30-c5c5-8d0d54af7d08"
      },
      "outputs": [
        {
          "output_type": "stream",
          "name": "stdout",
          "text": [
            "104743\n"
          ]
        }
      ],
      "source": [
        "def is_prime(number):\n",
        "    smallest_num = 2\n",
        "    while smallest_num ** 2 <= number:\n",
        "        if number % smallest_num == 0:\n",
        "            return False\n",
        "        else:\n",
        "            smallest_num += 1\n",
        "    return True\n",
        "\n",
        "\n",
        "num = 1\n",
        "reps = 0\n",
        "\n",
        "while reps < 10001:\n",
        "    num += 1\n",
        "    if is_prime(num):\n",
        "        reps += 1\n",
        "\n",
        "print(num)"
      ]
    }
  ]
}