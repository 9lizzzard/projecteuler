{
  "nbformat": 4,
  "nbformat_minor": 0,
  "metadata": {
    "colab": {
      "provenance": [],
      "authorship_tag": "ABX9TyNmkiRxkoWQrQbPimNT1b20",
      "include_colab_link": true
    },
    "kernelspec": {
      "name": "python3",
      "display_name": "Python 3"
    },
    "language_info": {
      "name": "python"
    }
  },
  "cells": [
    {
      "cell_type": "markdown",
      "metadata": {
        "id": "view-in-github",
        "colab_type": "text"
      },
      "source": [
        "<a href=\"https://colab.research.google.com/github/9lizzzard/projecteuler/blob/main/Prob004.ipynb\" target=\"_parent\"><img src=\"https://colab.research.google.com/assets/colab-badge.svg\" alt=\"Open In Colab\"/></a>"
      ]
    },
    {
      "cell_type": "markdown",
      "source": [
        "# Problem 4\n",
        "\n",
        "A palindromic number reads the same both ways. The largest palindrome made from the product of two 2-digit numbers is 9009 = 91 × 99.\n",
        "\n",
        "Find the largest palindrome made from the product of two 3-digit numbers."
      ],
      "metadata": {
        "id": "JRMgBJhBqpE3"
      }
    },
    {
      "cell_type": "code",
      "execution_count": 1,
      "metadata": {
        "colab": {
          "base_uri": "https://localhost:8080/"
        },
        "id": "NH-Yqfs2qkMv",
        "outputId": "833932d0-d5f0-4e19-9e2c-229d43baa8d3"
      },
      "outputs": [
        {
          "output_type": "stream",
          "name": "stdout",
          "text": [
            "906609\n"
          ]
        }
      ],
      "source": [
        "def check_for_palindrome(number):\n",
        "    return number[::-1] == number\n",
        "\n",
        "\n",
        "largest_palidrome_number = 0\n",
        "\n",
        "for num1 in range(100, 1000):\n",
        "    for num2 in range(num1, 1000):\n",
        "        result = num1 * num2\n",
        "        if check_for_palindrome(str(result)) and result > largest_palidrome_number:\n",
        "            largest_palidrome_number = result\n",
        "\n",
        "print(largest_palidrome_number)"
      ]
    }
  ]
}